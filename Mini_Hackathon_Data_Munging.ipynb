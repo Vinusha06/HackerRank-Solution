{
  "nbformat": 4,
  "nbformat_minor": 0,
  "metadata": {
    "colab": {
      "name": "Copy of Copy of Mini_Hackathon_Data_Munging.ipynb",
      "provenance": [],
      "private_outputs": true,
      "collapsed_sections": [],
      "include_colab_link": true
    },
    "kernelspec": {
      "name": "python3",
      "display_name": "Python 3"
    }
  },
  "cells": [
    {
      "cell_type": "markdown",
      "metadata": {
        "id": "view-in-github",
        "colab_type": "text"
      },
      "source": [
        "<a href=\"https://colab.research.google.com/github/Vinusha06/HackerRank-Solution/blob/master/Mini_Hackathon_Data_Munging.ipynb\" target=\"_parent\"><img src=\"https://colab.research.google.com/assets/colab-badge.svg\" alt=\"Open In Colab\"/></a>"
      ]
    },
    {
      "cell_type": "markdown",
      "metadata": {
        "id": "DIfh2REWFr6p",
        "colab_type": "text"
      },
      "source": [
        "## Learning Objective"
      ]
    },
    {
      "cell_type": "markdown",
      "metadata": {
        "id": "LrIlNFZeKMsx",
        "colab_type": "text"
      },
      "source": [
        "At the end of this experiment, you will be able to:\n",
        "\n",
        "* Perform Data preprocessing"
      ]
    },
    {
      "cell_type": "markdown",
      "metadata": {
        "id": "H5DokZ7MF1P_",
        "colab_type": "text"
      },
      "source": [
        "## Dataset"
      ]
    },
    {
      "cell_type": "markdown",
      "metadata": {
        "id": "V3vgcWwOF2cK",
        "colab_type": "text"
      },
      "source": [
        "### Description"
      ]
    },
    {
      "cell_type": "markdown",
      "metadata": {
        "id": "fqJ1h77-KMsy",
        "colab_type": "text"
      },
      "source": [
        "We will be using district wise demographics, enrollments, school and teacher indicator data to predict whether the literacy rate is high / medium / low in each district."
      ]
    },
    {
      "cell_type": "markdown",
      "metadata": {
        "id": "md2IjdMdGCWm",
        "colab_type": "text"
      },
      "source": [
        "### Data Preprocessing"
      ]
    },
    {
      "cell_type": "markdown",
      "metadata": {
        "id": "3B5ztQVbKMsz",
        "colab_type": "text"
      },
      "source": [
        "Data preprocessing is an important step of solving every machine learning problem. Most of\n",
        "the datasets used with Machine Learning problems need to be processed / cleaned / transformed\n",
        "so that a Machine Learning algorithm can be trained on it."
      ]
    },
    {
      "cell_type": "markdown",
      "metadata": {
        "id": "QsxaJLZAKMs0",
        "colab_type": "text"
      },
      "source": [
        "There are different steps involved for Data Preprocessing. These steps are as follows:"
      ]
    },
    {
      "cell_type": "markdown",
      "metadata": {
        "id": "QF3Eg-5pKMs1",
        "colab_type": "text"
      },
      "source": [
        "    1. Data Cleaning → In this step the primary focus is on\n",
        "        -Handling missing data\n",
        "        -Handling nosiy data\n",
        "        -Detection and removal of outliers\n",
        "    \n",
        "    2. Data Integration → This process is used when data is gathered from various data sources\n",
        "    and data are combined to form consistent data. This data after performing cleaning is used\n",
        "    for analysis.\n",
        "    \n",
        "    3. Data Transformation → In this step we will convert the raw data into a specified for-\n",
        "    mat according to the need of the model we are building. There are many options used for\n",
        "    transforming the data as below:\n",
        "        -Normalization\n",
        "        -Aggregation\n",
        "        -Generalization\n",
        "        \n",
        "    4. Data Reduction → After data transformation and scaling the redundancy within the data\n",
        "    is removed and efficiently organizing the data is performed.\n",
        "\n"
      ]
    },
    {
      "cell_type": "code",
      "metadata": {
        "id": "dd9cGZeydAyU",
        "colab_type": "code",
        "colab": {}
      },
      "source": [
        "# Run this cell to download the data (you will get the zip file)\n",
        "!wget https://cdn.talentsprint.com/aiml/Experiment_related_data/data-20190108T113429Z-001.zip\n"
      ],
      "execution_count": null,
      "outputs": []
    },
    {
      "cell_type": "code",
      "metadata": {
        "id": "_0OLk-Y-8yfd",
        "colab_type": "code",
        "colab": {}
      },
      "source": [
        "\n",
        "# Run this cell to unzip the data\n",
        "!unzip data-20190108T113429Z-001.zip"
      ],
      "execution_count": null,
      "outputs": []
    },
    {
      "cell_type": "code",
      "metadata": {
        "id": "e7VD8dJgGhVw",
        "colab_type": "code",
        "colab": {}
      },
      "source": [
        "!ls"
      ],
      "execution_count": null,
      "outputs": []
    },
    {
      "cell_type": "code",
      "metadata": {
        "id": "f9utRh_WiPNl",
        "colab_type": "code",
        "colab": {}
      },
      "source": [
        "\n",
        "\n",
        "%cd data"
      ],
      "execution_count": null,
      "outputs": []
    },
    {
      "cell_type": "code",
      "metadata": {
        "id": "mDWnvJ6QiRB_",
        "colab_type": "code",
        "colab": {}
      },
      "source": [
        "!ls"
      ],
      "execution_count": null,
      "outputs": []
    },
    {
      "cell_type": "markdown",
      "metadata": {
        "id": "hZSlj_nWKMs4",
        "colab_type": "text"
      },
      "source": [
        "#### Exercise 1 \n",
        "We have four different files\n",
        "\n",
        "* Districtwise_Basicdata.csv\n",
        "* Districtwise_Enrollment_details_indicator.csv\n",
        "* Districtwise_SchoolData.csv\n",
        "* Districtwise_Teacher_indicator.csv\n",
        "These files contain the neccesary data to solve the problem.\n",
        "Load all the files correctly, after observing the header level details, data records etc\n",
        "\n",
        "Hint : Use read_csv from pandas"
      ]
    },
    {
      "cell_type": "code",
      "metadata": {
        "id": "_XRregSb9wdB",
        "colab_type": "code",
        "colab": {}
      },
      "source": [
        "import pandas as pd\n"
      ],
      "execution_count": null,
      "outputs": []
    },
    {
      "cell_type": "code",
      "metadata": {
        "id": "y7v4yLCwKMs5",
        "colab_type": "code",
        "colab": {}
      },
      "source": [
        "\n",
        "# Your Code Here\n",
        "\n",
        "\n",
        "basicdata = pd.read_csv('Districtwise_Basicdata.csv')\n",
        "\n",
        "\n",
        "basicdata.head()"
      ],
      "execution_count": null,
      "outputs": []
    },
    {
      "cell_type": "code",
      "metadata": {
        "id": "ZKt_tjyMYC2x",
        "colab_type": "code",
        "colab": {}
      },
      "source": [
        "enrolldata = pd.read_csv('Districtwise_Enrollment_details_indicator.csv',skiprows=2)\n",
        "enrolldata.head()"
      ],
      "execution_count": null,
      "outputs": []
    },
    {
      "cell_type": "code",
      "metadata": {
        "id": "7FdWfL0Ytol3",
        "colab_type": "code",
        "colab": {}
      },
      "source": [
        "\n",
        "schooldata = pd.read_csv('Districtwise_SchoolData.csv',skiprows=2)\n",
        "\n",
        "schooldata.head()"
      ],
      "execution_count": null,
      "outputs": []
    },
    {
      "cell_type": "code",
      "metadata": {
        "id": "uPimXD94tv23",
        "colab_type": "code",
        "colab": {}
      },
      "source": [
        "teacherdata = pd.read_csv('Districtwise_Teacher_indicator.csv',skiprows=2)\n",
        "\n",
        "teacherdata.head()"
      ],
      "execution_count": null,
      "outputs": []
    },
    {
      "cell_type": "markdown",
      "metadata": {
        "id": "K2A3OKraKMs9",
        "colab_type": "text"
      },
      "source": [
        "#### Exercise 2  \n",
        "\n",
        "* Remove the unwanted columns, which are unlikely to contribute for the prediction of overall literacy grade. The decision of what constitutes unwanted columns depends on how it effects your final accuracy (and very little on your domain understanding of education sector in India; you're encouraged however to exercise some domain understanding too if you wish)\n",
        "\n",
        "**Hint** use pandas drop function to drop your choice of unwanted columns (if any).\n",
        "\n",
        "\n",
        "* As the required data is present in different files, we need to integrate all the four to make single dataframe/dataset. For that purpose, create a unique identifier for each row in all the dataframes so that it can be used to map the data in different files correctly\n",
        "* Join/integrate this data \n",
        "\n",
        "Example : data of the district ananthapur in Andrapradesh, which present in different files should form a single row \n",
        "\n",
        "Hint : \n",
        "* Use the combination of year, statecode, district code as unique identifier \n",
        "\n",
        "* Refer the following link for merge, join and concat syntaxes:  \n",
        "\n",
        "https://pandas.pydata.org/pandas-docs/stable/merging.html\n"
      ]
    },
    {
      "cell_type": "code",
      "metadata": {
        "id": "vUFxzJGAttZ1",
        "colab_type": "code",
        "colab": {}
      },
      "source": [
        "# Your Code Here\n",
        "basicdata = basicdata.drop(['0-6 Population','Number of Blocks','Number of Villages','Number of Clusters','Sex Ratio 0-6'],axis=1)\n",
        "basicdata"
      ],
      "execution_count": null,
      "outputs": []
    },
    {
      "cell_type": "code",
      "metadata": {
        "id": "4QC7aslg5b3l",
        "colab_type": "code",
        "colab": {}
      },
      "source": [
        "\n",
        "enrolldata = enrolldata.drop(['No Response'],axis = 1)\n",
        "enrolldata = enrolldata.rename({'Distcd':'District Code',\"Distname\":'District Name'},axis=1)\n",
        "enrolldata.head()"
      ],
      "execution_count": null,
      "outputs": []
    },
    {
      "cell_type": "code",
      "metadata": {
        "id": "YEgXWwsK8uG7",
        "colab_type": "code",
        "colab": {}
      },
      "source": [
        "schooldata = schooldata.drop(['No Response','Academic Year'],axis = 1)\n",
        "schooldata.head()\n"
      ],
      "execution_count": null,
      "outputs": []
    },
    {
      "cell_type": "code",
      "metadata": {
        "id": "rIpFniM4EXfu",
        "colab_type": "code",
        "colab": {}
      },
      "source": [
        "teacherdata = teacherdata.drop(['No Response','Academic Year'],axis = 1)\n",
        "teacherdata.head()"
      ],
      "execution_count": null,
      "outputs": []
    },
    {
      "cell_type": "code",
      "metadata": {
        "id": "le5wGzUuKMs_",
        "colab_type": "code",
        "colab": {}
      },
      "source": [
        "\n",
        "\n",
        "df = [basicdata,enrolldata,schooldata,teacherdata]\n",
        "result = pd.concat(df,axis = 1,join='inner')\n",
        "\n",
        "\n",
        "result = result.loc[:,~result.columns.duplicated()]\n",
        "result.head()"
      ],
      "execution_count": null,
      "outputs": []
    },
    {
      "cell_type": "code",
      "metadata": {
        "id": "ogjXiIOMPoDs",
        "colab_type": "code",
        "colab": {}
      },
      "source": [
        "result"
      ],
      "execution_count": null,
      "outputs": []
    },
    {
      "cell_type": "markdown",
      "metadata": {
        "id": "k3wf8dFrKMtC",
        "colab_type": "text"
      },
      "source": [
        "Follow this steps in order to clean the data:"
      ]
    },
    {
      "cell_type": "markdown",
      "metadata": {
        "id": "_jcX4aRsKMtE",
        "colab_type": "text"
      },
      "source": [
        "#### Exercise 3 \n",
        "\n",
        "* Overall_lit is our target variable, which we need to predict. Delete the row with missing overall_lit column\n",
        "* Take a call to replace the missing values in any other column appropriately with mean/median/mode\n",
        "* Convert categorical values to numerical values\n",
        "Example : If a feature contains categorical values such as dog, cat, mouse etc then replace them with 1, 2, 3 etc or using one hot encoding (your judgement)\n",
        "\n",
        "*Hint* :\n",
        "* Use pandas fillna function to replace the missing values"
      ]
    },
    {
      "cell_type": "code",
      "metadata": {
        "id": "REcYtu79KMtF",
        "colab_type": "code",
        "colab": {}
      },
      "source": [
        "# Your Code Here\n",
        "result = result.dropna(subset = ['Overall Literacy'])\n"
      ],
      "execution_count": null,
      "outputs": []
    },
    {
      "cell_type": "code",
      "metadata": {
        "id": "_fI2eEm7ZVt7",
        "colab_type": "code",
        "colab": {}
      },
      "source": [
        "\n",
        "result"
      ],
      "execution_count": null,
      "outputs": []
    },
    {
      "cell_type": "code",
      "metadata": {
        "id": "bHvVeF5GZioO",
        "colab_type": "code",
        "colab": {}
      },
      "source": [
        "\n",
        "result['Overall Literacy'].isna().sum()"
      ],
      "execution_count": null,
      "outputs": []
    },
    {
      "cell_type": "code",
      "metadata": {
        "id": "VtlAkySoUdht",
        "colab_type": "code",
        "colab": {}
      },
      "source": [
        "\n",
        "import numpy as np\n"
      ],
      "execution_count": null,
      "outputs": []
    },
    {
      "cell_type": "code",
      "metadata": {
        "id": "scC8-delN9DK",
        "colab_type": "code",
        "colab": {}
      },
      "source": [
        "\n",
        "result = result.fillna(result.mean())\n",
        "#result1 =result.replace(np.nan,result.mean(axis =1))"
      ],
      "execution_count": null,
      "outputs": []
    },
    {
      "cell_type": "code",
      "metadata": {
        "id": "gik7dUyLPZXB",
        "colab_type": "code",
        "colab": {}
      },
      "source": [
        "result.isna().sum().any()"
      ],
      "execution_count": null,
      "outputs": []
    },
    {
      "cell_type": "code",
      "metadata": {
        "id": "6ljzdQkXVnqV",
        "colab_type": "code",
        "colab": {}
      },
      "source": [
        "result = result.replace({'High':3,'Medium':2,'Low':1})"
      ],
      "execution_count": null,
      "outputs": []
    },
    {
      "cell_type": "code",
      "metadata": {
        "id": "r8qpeZaPcH8B",
        "colab_type": "code",
        "colab": {}
      },
      "source": [
        "result = result.dropna()"
      ],
      "execution_count": null,
      "outputs": []
    },
    {
      "cell_type": "markdown",
      "metadata": {
        "id": "SzsY-knQKMtI",
        "colab_type": "text"
      },
      "source": [
        "#### Exercise 4 \n",
        "\n",
        "Use the functions below to adjust the outliers\n",
        "\n",
        "smooth_out function takes pandas dataframe as input and caculates mean, standard deviation of every column to check whether all the values in that lies within the range of mean +/- 2*standard_deviation of that column or not.\n",
        "If any of the values are not present in that boundary, then that values is brought on to the boundary.\n",
        "\n",
        "**Hint:** Should  the index column be normalized too? \n",
        "\n",
        "<img src=\"https://cdn.talentsprint.com/aiml/Experiment_related_data/normal_dist.png\">"
      ]
    },
    {
      "cell_type": "code",
      "metadata": {
        "id": "uhdy63OSKMtK",
        "colab_type": "code",
        "colab": {}
      },
      "source": [
        "# Function to clip and clam the data\n",
        "def clip_clamp(x, mean, sd):\n",
        "    # Checking whether the value is less than a differenced value between mean and standard deviation.\n",
        "    if x < mean - 2*sd :\n",
        "        return mean - 2*sd\n",
        "    #Checking whether the value is greater than a differenced value between mean and standard deviation.\n",
        "    elif x > mean + 2*sd :\n",
        "        return mean + 2*sd\n",
        "    # If above two conditions are not statisfied we will return the original value\n",
        "    else :\n",
        "        return x"
      ],
      "execution_count": null,
      "outputs": []
    },
    {
      "cell_type": "code",
      "metadata": {
        "id": "YXWSJ2wCKMtP",
        "colab_type": "code",
        "colab": {}
      },
      "source": [
        "# Function to smooth the data\n",
        "def smooth_out(Total_data):\n",
        "    for i in Total_data.columns:\n",
        "        # Calculating the mean value\n",
        "        mean = np.mean(Total_data[i].values, axis=0)\n",
        "        # Calculating the standard deviation value\n",
        "        sd = np.std(Total_data[i].values, axis=0)\n",
        "        # Calculating the corrected value using clip and clamp function\n",
        "        corrected = np.array([clip_clamp(x, mean, sd) for x in Total_data[i].values])\n",
        "        # Storing the data in form of series\n",
        "        Total_data[i] = pd.Series(corrected, index=Total_data[i].index)\n",
        "    return Total_data"
      ],
      "execution_count": null,
      "outputs": []
    },
    {
      "cell_type": "code",
      "metadata": {
        "id": "-hU2poUeKMtT",
        "colab_type": "code",
        "colab": {}
      },
      "source": [
        "\n",
        "# Your Code Here\n",
        "\n",
        "datastore = result.iloc[:,[0,1,2,3,4]]\n",
        "data = result.drop(result.iloc[:,[0,1,2,3,4]],axis = 1)"
      ],
      "execution_count": null,
      "outputs": []
    },
    {
      "cell_type": "code",
      "metadata": {
        "id": "eSi_3fb3pL7A",
        "colab_type": "code",
        "colab": {}
      },
      "source": [
        "data = data.drop([0])"
      ],
      "execution_count": null,
      "outputs": []
    },
    {
      "cell_type": "code",
      "metadata": {
        "id": "WH9Saph4kswK",
        "colab_type": "code",
        "colab": {}
      },
      "source": [
        "\n",
        "data = data.astype(float)\n"
      ],
      "execution_count": null,
      "outputs": []
    },
    {
      "cell_type": "code",
      "metadata": {
        "id": "ec0ZjeLJjv-V",
        "colab_type": "code",
        "colab": {}
      },
      "source": [
        "\n",
        "data = smooth_out(data)\n"
      ],
      "execution_count": null,
      "outputs": []
    },
    {
      "cell_type": "code",
      "metadata": {
        "id": "eqTVww_soPH0",
        "colab_type": "code",
        "colab": {}
      },
      "source": [
        "data"
      ],
      "execution_count": null,
      "outputs": []
    },
    {
      "cell_type": "markdown",
      "metadata": {
        "id": "-dMbvU-KKMtY",
        "colab_type": "text"
      },
      "source": [
        "#### Exercise 5 \n",
        "\n",
        "Use the function below (corr_features) to identify uncorrelated features and remove the remaining features\n",
        "* corr_features takes pandas dataframe, columns in the dataframe and bar (corelation co-efficient)"
      ]
    },
    {
      "cell_type": "code",
      "metadata": {
        "id": "kgJeGouOKMtZ",
        "colab_type": "code",
        "colab": {}
      },
      "source": [
        "# Function to find uncorrelated features\n",
        "def corr_features(df,cols,bar=0.9):\n",
        "    for c,i in enumerate(cols[:-1]):\n",
        "        col_set = set(cols)\n",
        "        for j in cols[c+1:]:\n",
        "            if i==j:\n",
        "                continue\n",
        "           \n",
        "            score = df[i].corr(df[j])\n",
        "            \n",
        "            if score>bar:\n",
        "                cols = list(col_set-set([j]))\n",
        "            if score<-bar:\n",
        "                cols = list(col_set-set([j]))\n",
        "    return cols"
      ],
      "execution_count": null,
      "outputs": []
    },
    {
      "cell_type": "code",
      "metadata": {
        "id": "gisomp5aa9Qz",
        "colab_type": "code",
        "colab": {}
      },
      "source": [
        "# Your Code Here\n",
        "uncorrelated = corr_features(data,data.iloc[:,:])"
      ],
      "execution_count": null,
      "outputs": []
    },
    {
      "cell_type": "code",
      "metadata": {
        "id": "mkEtzpGCO6_R",
        "colab_type": "code",
        "colab": {}
      },
      "source": [
        "results = data[uncorrelated]"
      ],
      "execution_count": null,
      "outputs": []
    },
    {
      "cell_type": "code",
      "metadata": {
        "id": "3NDGAbrbPMBz",
        "colab_type": "code",
        "colab": {}
      },
      "source": [
        "\n",
        "results"
      ],
      "execution_count": null,
      "outputs": []
    },
    {
      "cell_type": "markdown",
      "metadata": {
        "id": "5njOPWIXKMtd",
        "colab_type": "text"
      },
      "source": [
        "#### Exercise 6 \n",
        "\n",
        "Perform Mean Correction and Standard Scaling on the data feature/column wise.\n",
        "\n",
        "**Hint:** In order to understand the idea behind the terms used above, you may refer the following link: \n",
        "\n",
        "https://scikit-learn.org/stable/modules/generated/sklearn.preprocessing.StandardScaler.html"
      ]
    },
    {
      "cell_type": "code",
      "metadata": {
        "id": "988wdlpDKMtd",
        "colab_type": "code",
        "colab": {}
      },
      "source": [
        "# Your Code Here\n",
        "from sklearn.preprocessing import StandardScaler"
      ],
      "execution_count": null,
      "outputs": []
    },
    {
      "cell_type": "code",
      "metadata": {
        "id": "JGZbgRzY4l1u",
        "colab_type": "code",
        "colab": {}
      },
      "source": [
        "\n",
        "scaler = StandardScaler()"
      ],
      "execution_count": null,
      "outputs": []
    },
    {
      "cell_type": "code",
      "metadata": {
        "id": "tOpgQodpHHst",
        "colab_type": "code",
        "colab": {}
      },
      "source": [
        "print(scaler.fit(results))"
      ],
      "execution_count": null,
      "outputs": []
    },
    {
      "cell_type": "code",
      "metadata": {
        "id": "Zg17QnIuSUgC",
        "colab_type": "code",
        "colab": {}
      },
      "source": [
        "print(scaler.mean_)"
      ],
      "execution_count": null,
      "outputs": []
    },
    {
      "cell_type": "code",
      "metadata": {
        "id": "nt12lfJtSpqH",
        "colab_type": "code",
        "colab": {}
      },
      "source": [
        ""
      ],
      "execution_count": null,
      "outputs": []
    },
    {
      "cell_type": "code",
      "metadata": {
        "id": "6nDmdUbjWFdR",
        "colab_type": "code",
        "colab": {}
      },
      "source": [
        "print(scaler.transform(results))"
      ],
      "execution_count": null,
      "outputs": []
    },
    {
      "cell_type": "markdown",
      "metadata": {
        "id": "QugqX021KMtl",
        "colab_type": "text"
      },
      "source": [
        "#### Exercise 7 **(Optional)**\n",
        "\n",
        "you can apply different classifiers(from sklearn) on the preprocessed data ."
      ]
    },
    {
      "cell_type": "code",
      "metadata": {
        "id": "s6ka-fmz8gGj",
        "colab_type": "code",
        "colab": {}
      },
      "source": [
        "def callKnn(data,targets):\n",
        "    X_train, X_test, y_train, y_test = train_test_split(data, targets, test_size=0.33)\n",
        "    neigh = KNeighborsClassifier(n_neighbors=3)\n",
        "    neigh.fit(X_train, y_train)\n",
        "    predicted_labels = neigh.predict(X_test)\n",
        "    return accuracy_score(y_test,predicted_labels)"
      ],
      "execution_count": null,
      "outputs": []
    },
    {
      "cell_type": "code",
      "metadata": {
        "id": "UEjD56Puavy6",
        "colab_type": "code",
        "colab": {}
      },
      "source": [
        "# Your Code Here\n",
        "from sklearn.model_selection import train_test_split\n",
        "from sklearn.neighbors import KNeighborsClassifier\n",
        "from sklearn.metrics import accuracy_score\n",
        "callKnn(results,data['Overall Literacy'])"
      ],
      "execution_count": null,
      "outputs": []
    },
    {
      "cell_type": "code",
      "metadata": {
        "id": "WdQoOEc04CnT",
        "colab_type": "code",
        "colab": {}
      },
      "source": [
        ""
      ],
      "execution_count": null,
      "outputs": []
    }
  ]
}